{
 "cells": [
  {
   "cell_type": "markdown",
   "metadata": {},
   "source": [
    "info_list:\n",
    "[标识，状态，链接，进度]\n",
    "eg:\n",
    "[[str(num), \"等待\", i, \"0\"],[str(num), \"等待\", i, \"0\"],[str(num), \"等待\", i, \"0\"],[str(num), \"等待\", i, \"0\"],[str(num), \"等待\", i, \"0\"]]\n",
    "\n",
    "\n",
    "eg:\n",
    "task_list:\n",
    "[[[str(num), \"等待\", i, \"0\"],[str(num), \"等待\", i, \"0\"]],[[str(num), \"等待\", i, \"0\"],[str(num), \"等待\", i, \"0\"]],[[str(num), \"等待\", i, \"0\"]]]\n",
    "\n",
    "直观一点:\n",
    "[\n",
    "    [[str(num), \"等待\", i, \"0\"],[str(num), \"等待\", i, \"0\"]],\n",
    "    [[str(num), \"等待\", i, \"0\"],[str(num), \"等待\", i, \"0\"]],\n",
    "    [[str(num), \"等待\", i, \"0\"]]\n",
    "]\n",
    "这玩意其实是个三维列表(bushi)\n",
    "\n",
    "attr_name对应的值attr_values:[[...],[...],[...]]\n",
    "\n",
    "\"hls_url\": \"https://hls.cntv.myhwcdn.cn/asp/hls/main/0303000a/3/default/42c67057ea3f4247a4596b1235374e25/main.m3u8?maxbr=2048\"\n"
   ]
  },
  {
   "cell_type": "code",
   "execution_count": null,
   "metadata": {},
   "outputs": [],
   "source": [
    "from DlHandle import VideoDownload\n",
    "class Myclass():\n",
    "    api = \"https://api.cntv.cn/NewVideo/getVideoListByColumn?id=%s&n=20&sort=desc&p=1&mode=0&serviceId=tvcctv\"\n",
    "    id = \"VIDENozYxCrK392L11DxqJUy240204\"\n",
    "    pid = \"5c0ee484df014cbf871d900b0a1d7601\"\n",
    "    vd = VideoDownload()\n",
    "    Vinfo = vd.GetHttpVideoInfo(self.VDinfo)\n",
    "    self.urls = vd.GetDownloadUrls(Vinfo)"
   ]
  },
  {
   "cell_type": "code",
   "execution_count": 4,
   "metadata": {},
   "outputs": [
    {
     "name": "stdout",
     "output_type": "stream",
     "text": [
      "hls.cntv.myhwcdn.cn\n"
     ]
    }
   ],
   "source": [
    "hls_url =  \"https://hls.cntv.myhwcdn.cn/asp/hls/main/0303000a/3/default/42c67057ea3f4247a4596b1235374e25/main.m3u8?maxbr=2048\"\n",
    "hls_head = hls_url.split(\"/\")[2]\n",
    "print(hls_head)"
   ]
  },
  {
   "cell_type": "code",
   "execution_count": 5,
   "metadata": {},
   "outputs": [
    {
     "name": "stdout",
     "output_type": "stream",
     "text": [
      "abc\n"
     ]
    }
   ],
   "source": [
    "string = \"abcde\"\n",
    "print(string[:-3])"
   ]
  }
 ],
 "metadata": {
  "kernelspec": {
   "display_name": "CCTVVideoDownload-SR_vxYU5",
   "language": "python",
   "name": "python3"
  },
  "language_info": {
   "codemirror_mode": {
    "name": "ipython",
    "version": 3
   },
   "file_extension": ".py",
   "mimetype": "text/x-python",
   "name": "python",
   "nbconvert_exporter": "python",
   "pygments_lexer": "ipython3",
   "version": "3.8.10"
  },
  "orig_nbformat": 4
 },
 "nbformat": 4,
 "nbformat_minor": 2
}
