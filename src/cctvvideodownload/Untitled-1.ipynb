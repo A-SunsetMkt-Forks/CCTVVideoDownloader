{
 "cells": [
  {
   "cell_type": "markdown",
   "metadata": {},
   "source": [
    "info_list:\n",
    "[标识，状态，链接，进度]\n",
    "eg:\n",
    "[[str(num), \"等待\", i, \"0\"],[str(num), \"等待\", i, \"0\"],[str(num), \"等待\", i, \"0\"],[str(num), \"等待\", i, \"0\"],[str(num), \"等待\", i, \"0\"]]\n",
    "\n",
    "\n",
    "eg:\n",
    "task_list:\n",
    "[[[str(num), \"等待\", i, \"0\"],[str(num), \"等待\", i, \"0\"]],[[str(num), \"等待\", i, \"0\"],[str(num), \"等待\", i, \"0\"]],[[str(num), \"等待\", i, \"0\"]]]\n",
    "\n",
    "直观一点:\n",
    "[\n",
    "    [[str(num), \"等待\", i, \"0\"],[str(num), \"等待\", i, \"0\"]],\n",
    "    [[str(num), \"等待\", i, \"0\"],[str(num), \"等待\", i, \"0\"]],\n",
    "    [[str(num), \"等待\", i, \"0\"]]\n",
    "]\n",
    "这玩意其实是个三维列表(bushi)\n",
    "\n",
    "attr_name对应的值attr_values:[[...],[...],[...]]\n",
    "\n",
    "\"hls_url\": \"https://hls.cntv.myhwcdn.cn/asp/hls/main/0303000a/3/default/42c67057ea3f4247a4596b1235374e25/main.m3u8?maxbr=2048\"\n"
   ]
  },
  {
   "cell_type": "markdown",
   "metadata": {},
   "source": [
    "{\n",
    "    \"programme\":{\n"
   ]
  },
  {
   "cell_type": "markdown",
   "metadata": {},
   "source": [
    "{\n",
    "    \"settings\":{\n",
    "        \"file_save_path\":\"C:\\\\Video\",\n",
    "        \"threading_num\":\"1\",\n",
    "        \"whether_transcode\":\"False\"\n",
    "    },\n",
    "    \"programme\": {\n",
    "        \"1\": {\n",
    "            \"name\": \"新闻周刊\",\n",
    "            \"id\": \"TOPC1451559180488841\"\n",
    "        },\n",
    "        \"2\": {\n",
    "            \"name\": \"世界周刊\",\n",
    "            \"id\": \"TOPC1451558687534149\"\n",
    "        },\n",
    "        \"3\": {\n",
    "            \"name\": \"世界周刊\",\n",
    "            \"id\": \"TOPC1451558687534149\"\n",
    "        }\n",
    "    }\n",
    "}\n",
    "\n",
    "默认config\n",
    "{\n",
    "    \"settings\":{\n",
    "        \"file_save_path\":\"C:\\\\Video\",\n",
    "        \"threading_num\":\"1\",\n",
    "        \"whether_transcode\":\"False\"\n",
    "    },\n",
    "    \"programme\": {\n",
    "        \n",
    "    }\n",
    "}"
   ]
  },
  {
   "cell_type": "markdown",
   "metadata": {},
   "source": []
  }
 ],
 "metadata": {
  "kernelspec": {
   "display_name": "CCTVVideoDownload-SR_vxYU5",
   "language": "python",
   "name": "python3"
  },
  "language_info": {
   "codemirror_mode": {
    "name": "ipython",
    "version": 3
   },
   "file_extension": ".py",
   "mimetype": "text/x-python",
   "name": "python",
   "nbconvert_exporter": "python",
   "pygments_lexer": "ipython3",
   "version": "3.8.10"
  },
  "orig_nbformat": 4
 },
 "nbformat": 4,
 "nbformat_minor": 2
}
